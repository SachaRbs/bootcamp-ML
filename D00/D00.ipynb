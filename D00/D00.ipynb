{
 "cells": [
  {
   "cell_type": "code",
   "execution_count": 4,
   "metadata": {},
   "outputs": [],
   "source": [
    "import numpy as np\n",
    "import math"
   ]
  },
  {
   "cell_type": "markdown",
   "metadata": {},
   "source": [
    "# Exercise 00 - Sum"
   ]
  },
  {
   "cell_type": "code",
   "execution_count": 5,
   "metadata": {},
   "outputs": [],
   "source": [
    "def sum_(x, f):\n",
    "\tsum = 0.0\n",
    "\tif not isinstance(x, np.ndarray) or x.size == 0 or x.ndim != 1:\n",
    "\t\treturn None\n",
    "\ttry :\n",
    "\t\tf(x[0])\n",
    "\texcept :\n",
    "\t\treturn None\n",
    "\tfor item in x:\n",
    "\t\tsum += f(item)\n",
    "\treturn sum"
   ]
  },
  {
   "cell_type": "markdown",
   "metadata": {},
   "source": [
    "# Exercise 01 - Mean"
   ]
  },
  {
   "cell_type": "code",
   "execution_count": 6,
   "metadata": {},
   "outputs": [],
   "source": [
    "def mean(x):\n",
    "\tmean = 0.0\n",
    "\tif not isinstance(x, np.ndarray) or x.size == 0 or x.ndim != 1:\n",
    "\t\treturn None\n",
    "\tfor item in x:\n",
    "\t\tmean += item\n",
    "\treturn mean / x.size"
   ]
  },
  {
   "cell_type": "markdown",
   "metadata": {},
   "source": [
    "# Exercise 02 - Variance"
   ]
  },
  {
   "cell_type": "code",
   "execution_count": 7,
   "metadata": {},
   "outputs": [],
   "source": [
    "def variance(x):\n",
    "    var = 0.0\n",
    "    x_mean = mean(x)\n",
    "    for item in x:\n",
    "        var += (item - x_mean)**2\n",
    "    return var / x.size"
   ]
  },
  {
   "cell_type": "code",
   "execution_count": 8,
   "metadata": {},
   "outputs": [
    {
     "data": {
      "text/plain": [
       "134.57142857142858"
      ]
     },
     "execution_count": 8,
     "metadata": {},
     "output_type": "execute_result"
    }
   ],
   "source": [
    " X = np.array([0, 15, -9, 7, 12, 3, -21])\n",
    "variance(X)"
   ]
  },
  {
   "cell_type": "markdown",
   "metadata": {},
   "source": [
    "# Exercise 03 - Standard Deviation"
   ]
  },
  {
   "cell_type": "code",
   "execution_count": 9,
   "metadata": {},
   "outputs": [],
   "source": [
    "def std(x):\n",
    "    return math.sqrt(variance(x))"
   ]
  },
  {
   "cell_type": "code",
   "execution_count": 10,
   "metadata": {},
   "outputs": [
    {
     "data": {
      "text/plain": [
       "11.600492600378166"
      ]
     },
     "execution_count": 10,
     "metadata": {},
     "output_type": "execute_result"
    }
   ],
   "source": [
    " X = np.array([0, 15, -9, 7, 12, 3, -21])\n",
    "std(X)"
   ]
  },
  {
   "cell_type": "markdown",
   "metadata": {},
   "source": [
    "# Exercise 04 - Dot product"
   ]
  },
  {
   "cell_type": "code",
   "execution_count": 11,
   "metadata": {},
   "outputs": [],
   "source": [
    "def dot(x, y):\n",
    "    dot = 0.0\n",
    "    if not isinstance(x, np.ndarray) or x.size == 0 or x.ndim != 1:\n",
    "        return None\n",
    "    if not isinstance(y, np.ndarray) or y.size == 0 or y.ndim != 1:\n",
    "        return None\n",
    "    if x.ndim != y.ndim:\n",
    "        return None\n",
    "    for elem in range(x.size):\n",
    "        dot += x[elem] * y[elem]\n",
    "    return dot\n",
    "            \n",
    "    \n",
    "    "
   ]
  },
  {
   "cell_type": "code",
   "execution_count": 12,
   "metadata": {},
   "outputs": [
    {
     "name": "stdout",
     "output_type": "stream",
     "text": [
      "917.0\n",
      "917\n",
      "949.0\n",
      "949\n",
      "915.0\n",
      "915\n"
     ]
    }
   ],
   "source": [
    "X = np.array([0, 15, -9, 7, 12, 3, -21])\n",
    "Y = np.array([2, 14, -13, 5, 12, 4, -19])\n",
    "print(dot(X, Y))\n",
    "print(np.dot(X, Y))\n",
    "print(dot(X, X))\n",
    "print(np.dot(X, X))\n",
    "print(dot(Y, Y))\n",
    "print(np.dot(Y, Y))"
   ]
  },
  {
   "cell_type": "markdown",
   "metadata": {},
   "source": [
    "# Exercise 05 - Matrix-vector product"
   ]
  },
  {
   "cell_type": "code",
   "execution_count": 13,
   "metadata": {},
   "outputs": [],
   "source": [
    "# def mat_vec_prod(x, y):\n",
    "#     prod = np.empty(0)\n",
    "#     for i in range(x.size):\n",
    "#         prod[i] = x[i] * y\n",
    "#     print(prod)\n",
    "\n",
    "def mat_vec_prod(x, y):\n",
    "    prod = np.empty(0)\n",
    "    if not isinstance(x, np.ndarray) or x.size == 0 or x.ndim != 2:\n",
    "        return None\n",
    "    if not isinstance(y, np.ndarray) or y.size == 0:\n",
    "        return None\n",
    "    if x.shape[1] != y.shape[0]:\n",
    "        return None\n",
    "    for elem in x:\n",
    "        prod = np.append(prod, dot(elem, y.ravel()))\n",
    "    return prod.reshape(-1, 1)"
   ]
  },
  {
   "cell_type": "code",
   "execution_count": 14,
   "metadata": {},
   "outputs": [
    {
     "data": {
      "text/plain": [
       "array([[ 497.],\n",
       "       [-356.],\n",
       "       [-345.],\n",
       "       [-270.],\n",
       "       [ -69.]])"
      ]
     },
     "execution_count": 14,
     "metadata": {},
     "output_type": "execute_result"
    }
   ],
   "source": [
    " W = np.array([\n",
    " [ -8, 8, -6, 14, 14, -9, -4],\n",
    " [ 2, -11, -2, -11, 14, -2, 14],\n",
    " [-13, -2, -5, 3, -8, -4, 13],\n",
    " [ 2, 13, -14, -15, -14, -15, 13],\n",
    " [ 2, -1, 12, 3, -7, -3, -6]])\n",
    "X = np.array([0, 15, -9, 7, 12, 3, -21]).reshape((7,1))\n",
    "Y = np.array([2, 14, -13, 5, 12, 4, -19]).reshape((7,1))\n",
    "\n",
    "mat_vec_prod(W, X)"
   ]
  },
  {
   "cell_type": "markdown",
   "metadata": {},
   "source": [
    "# Exercise 06 - Matrix-matrix product"
   ]
  },
  {
   "cell_type": "code",
   "execution_count": 15,
   "metadata": {},
   "outputs": [
    {
     "name": "stdout",
     "output_type": "stream",
     "text": [
      "[[  45.  414.   -3. -202. -163.]\n",
      " [-294. -244. -367.  -79.   62.]\n",
      " [-107.  140.   13. -115.  385.]\n",
      " [-302.  222. -302. -412.  447.]\n",
      " [ 108.  -33.  118.   79.  -67.]]\n"
     ]
    }
   ],
   "source": [
    "def mat_mat_prod(x, y):\n",
    "    if not isinstance(x, np.ndarray) or x.size == 0 or x.ndim != 2:\n",
    "        return None\n",
    "    if not isinstance(y, np.ndarray) or y.size == 0 or x.ndim != 2:\n",
    "        return None\n",
    "    if x.shape[1] != y.shape[0]:\n",
    "        return None\n",
    "    for j in range(y.shape[1]):\n",
    "        if j == 0:\n",
    "            prod = mat_vec_prod(x, y[:,j])\n",
    "        else:\n",
    "            prod = np.append(prod, mat_vec_prod(x, y[:,j]), axis=1)\n",
    "    return prod\n",
    "    \n",
    "W = np.array([\n",
    " [ -8, 8, -6, 14, 14, -9, -4],\n",
    " [ 2, -11, -2, -11, 14, -2, 14],\n",
    " [-13, -2, -5, 3, -8, -4, 13],\n",
    " [ 2, 13, -14, -15, -14, -15, 13],\n",
    " [ 2, -1, 12, 3, -7, -3, -6]])\n",
    "Z = np.array([\n",
    " [ -6, -1, -8, 7, -8],\n",
    " [ 7, 4, 0, -10, -10],\n",
    " [ 7, -13, 2, 2, -11],\n",
    " [ 3, 14, 7, 7, -4],\n",
    " [ -1, -3, -8, -4, -14],\n",
    " [ 9, -14, 9, 12, -7],\n",
    " [ -9, -4, -10, -3, 6]])\n",
    "\n",
    "print(mat_mat_prod(W, Z))"
   ]
  },
  {
   "cell_type": "markdown",
   "metadata": {},
   "source": [
    "# Exercise 07 - Mean Squared Error"
   ]
  },
  {
   "cell_type": "code",
   "execution_count": 16,
   "metadata": {},
   "outputs": [],
   "source": [
    "def mse(y, y_hat):\n",
    "    mse_ = 0.0\n",
    "    for i in range(y.size):\n",
    "        mse_ += (y[i] - y_hat[i])**2\n",
    "    return mse_ / y.size"
   ]
  },
  {
   "cell_type": "code",
   "execution_count": 17,
   "metadata": {},
   "outputs": [
    {
     "name": "stdout",
     "output_type": "stream",
     "text": [
      "4.285714285714286\n"
     ]
    }
   ],
   "source": [
    "X = np.array([0, 15, -9, 7, 12, 3, -21])\n",
    "Y = np.array([2, 14, -13, 5, 12, 4, -19])\n",
    "print(mse(X, Y))"
   ]
  },
  {
   "cell_type": "markdown",
   "metadata": {},
   "source": [
    "# Exercise 08 - Vectorized Mean Squared Error"
   ]
  },
  {
   "cell_type": "code",
   "execution_count": 18,
   "metadata": {},
   "outputs": [],
   "source": [
    "def vec_mse(y, y_hat):\n",
    "    mse_ = 0.0\n",
    "    mse_ = (dot((y_hat - y), (y_hat - y))) / y.size\n",
    "    return mse_"
   ]
  },
  {
   "cell_type": "code",
   "execution_count": 19,
   "metadata": {},
   "outputs": [
    {
     "data": {
      "text/plain": [
       "0.0"
      ]
     },
     "execution_count": 19,
     "metadata": {},
     "output_type": "execute_result"
    }
   ],
   "source": [
    "X = np.array([0, 15, -9, 7, 12, 3, -21])\n",
    "Y = np.array([2, 14, -13, 5, 12, 4, -19])\n",
    "vec_mse(X, Y)\n",
    "vec_mse(X, X)"
   ]
  },
  {
   "cell_type": "markdown",
   "metadata": {},
   "source": [
    "# Exercise 09 - Mean Squared Error as linear cost function"
   ]
  },
  {
   "cell_type": "code",
   "execution_count": 20,
   "metadata": {},
   "outputs": [],
   "source": [
    "def linear_mse(x, y, theta):\n",
    "    mse_ = 0.0\n",
    "    for i in range(len(x)):\n",
    "        mse_ += ((dot(theta, x[i])) - y[i])**2\n",
    "    return(mse_ / len(x))"
   ]
  },
  {
   "cell_type": "code",
   "execution_count": 21,
   "metadata": {},
   "outputs": [
    {
     "data": {
      "text/plain": [
       "130.71428571428572"
      ]
     },
     "execution_count": 21,
     "metadata": {},
     "output_type": "execute_result"
    }
   ],
   "source": [
    "X = np.array([\n",
    " [ -6, -7, -9],\n",
    " [ 13, -2, 14],\n",
    " [ -7, 14, -1],\n",
    " [ -8, -4, 6],\n",
    " [ -5, -9, 6],\n",
    " [ 1, -5, 11],\n",
    " [ 9, -11, 8]])\n",
    "Y = np.array([2, 14, -13, 5, 12, 4, -19])\n",
    "Z = np.array([3,0.5,-6])\n",
    "linear_mse(X, Y, Z)\n",
    "\n",
    "W = np.array([0,0,0])\n",
    "linear_mse(X, Y, W)"
   ]
  },
  {
   "cell_type": "markdown",
   "metadata": {},
   "source": [
    "# Exercise 10 - Vectorized Mean Squared Error as a linear cost function"
   ]
  },
  {
   "cell_type": "code",
   "execution_count": 22,
   "metadata": {},
   "outputs": [],
   "source": [
    "def vec_linear_mse(x, y, theta):\n",
    "    mse_ = 0.0\n",
    "    mse_ = mat_mat_prod(((mat_vec_prod(X, theta) - y.reshape(-1, 1)).T),  (mat_vec_prod(X, theta) - y.reshape(-1, 1)))\n",
    "    return((mse_ / x.shape[0]))[0][0]"
   ]
  },
  {
   "cell_type": "code",
   "execution_count": 23,
   "metadata": {},
   "outputs": [
    {
     "data": {
      "text/plain": [
       "2641.0"
      ]
     },
     "execution_count": 23,
     "metadata": {},
     "output_type": "execute_result"
    }
   ],
   "source": [
    "X = np.array([\n",
    " [ -6, -7, -9],\n",
    " [ 13, -2, 14],\n",
    " [ -7, 14, -1],\n",
    " [ -8, -4, 6],\n",
    " [ -5, -9, 6],\n",
    " [ 1, -5, 11],\n",
    " [ 9, -11, 8]])\n",
    "Y = np.array([2, 14, -13, 5, 12, 4, -19])\n",
    "Z = np.array([3,0.5,-6])\n",
    "vec_linear_mse(X, Y, Z)"
   ]
  },
  {
   "cell_type": "markdown",
   "metadata": {},
   "source": [
    "# Exercise 11 - Linear Gradient - iterative version"
   ]
  },
  {
   "cell_type": "code",
   "execution_count": 24,
   "metadata": {},
   "outputs": [],
   "source": [
    "def gradient(x, y, theta):\n",
    "    nabla = 0.0\n",
    "    for j in range(len(x)):\n",
    "        nabla += ((dot(theta, x[j])) - y[j]) * x[j]\n",
    "    return nabla / y.size"
   ]
  },
  {
   "cell_type": "code",
   "execution_count": 25,
   "metadata": {},
   "outputs": [
    {
     "data": {
      "text/plain": [
       "array([ -37.35714286,  183.14285714, -393.        ])"
      ]
     },
     "execution_count": 25,
     "metadata": {},
     "output_type": "execute_result"
    }
   ],
   "source": [
    "X = np.array([\n",
    " [ -6, -7, -9],\n",
    " [ 13, -2, 14],\n",
    " [ -7, 14, -1],\n",
    " [ -8, -4, 6],\n",
    " [ -5, -9, 6],\n",
    " [ 1, -5, 11],\n",
    " [ 9, -11, 8]])\n",
    "Y = np.array([2, 14, -13, 5, 12, 4, -19])\n",
    "Z = np.array([3,0.5,-6])\n",
    "gradient(X, Y, Z)\n",
    "# W = np.array([0,0,0])\n",
    "# gradient(X, Y, W)\n",
    "# gradient(X, X.dot(Z), Z)"
   ]
  },
  {
   "cell_type": "markdown",
   "metadata": {},
   "source": [
    "# Exercise 12 - Linear Gradient - vectorized version"
   ]
  },
  {
   "cell_type": "code",
   "execution_count": 375,
   "metadata": {},
   "outputs": [],
   "source": [
    "def vec_gradient(x, y, theta):\n",
    "    nabla = 0.0\n",
    "    nabla = mat_mat_prod(x.T, (mat_vec_prod(x, theta) - y.reshape(-1, 1)))\n",
    "    return nabla / y.size"
   ]
  },
  {
   "cell_type": "code",
   "execution_count": 377,
   "metadata": {},
   "outputs": [
    {
     "data": {
      "text/plain": [
       "array([[ -37.35714286],\n",
       "       [ 183.14285714],\n",
       "       [-393.        ]])"
      ]
     },
     "execution_count": 377,
     "metadata": {},
     "output_type": "execute_result"
    }
   ],
   "source": [
    "X = np.array([\n",
    " [ -6, -7, -9],\n",
    " [ 13, -2, 14],\n",
    " [ -7, 14, -1],\n",
    " [ -8, -4, 6],\n",
    " [ -5, -9, 6],\n",
    " [ 1, -5, 11],\n",
    " [ 9, -11, 8]])\n",
    "Y = np.array([2, 14, -13, 5, 12, 4, -19])\n",
    "Z = np.array([3,0.5,-6])\n",
    "vec_gradient(X, Y.reshape(-1 ,1), Z)"
   ]
  }
 ],
 "metadata": {
  "kernelspec": {
   "display_name": "Python 3",
   "language": "python",
   "name": "python3"
  },
  "language_info": {
   "codemirror_mode": {
    "name": "ipython",
    "version": 3
   },
   "file_extension": ".py",
   "mimetype": "text/x-python",
   "name": "python",
   "nbconvert_exporter": "python",
   "pygments_lexer": "ipython3",
   "version": "3.7.4"
  }
 },
 "nbformat": 4,
 "nbformat_minor": 2
}
