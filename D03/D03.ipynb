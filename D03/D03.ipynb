{
 "cells": [
  {
   "cell_type": "code",
   "execution_count": 1,
   "metadata": {},
   "outputs": [],
   "source": [
    "import numpy as np"
   ]
  },
  {
   "cell_type": "markdown",
   "metadata": {},
   "source": [
    "# Exercise 00 - Regularization - iterative version"
   ]
  },
  {
   "cell_type": "code",
   "execution_count": 14,
   "metadata": {},
   "outputs": [],
   "source": [
    "def regularization(theta, lambda_):\n",
    "    reg = 0.0\n",
    "    for item in theta:\n",
    "        reg += item**2\n",
    "    return (reg * lambda_)"
   ]
  },
  {
   "cell_type": "code",
   "execution_count": 15,
   "metadata": {},
   "outputs": [
    {
     "name": "stdout",
     "output_type": "stream",
     "text": [
      "284.7\n",
      "9.49\n",
      "0.0\n"
     ]
    }
   ],
   "source": [
    "X = np.array([0, 15, -9, 7, 12, 3, -21])\n",
    "print(regularization(X, 0.3))\n",
    "print(regularization(X, 0.01))\n",
    "print(regularization(X, 0))"
   ]
  },
  {
   "cell_type": "markdown",
   "metadata": {},
   "source": [
    "# Exercise 01 - Regularization - vectorized version"
   ]
  },
  {
   "cell_type": "code",
   "execution_count": 16,
   "metadata": {},
   "outputs": [],
   "source": [
    "def vectorized_regularization(theta, lambda_):\n",
    "    return(np.dot(lambda_ * theta, theta))"
   ]
  },
  {
   "cell_type": "code",
   "execution_count": 19,
   "metadata": {},
   "outputs": [
    {
     "name": "stdout",
     "output_type": "stream",
     "text": [
      "284.7\n",
      "9.49\n",
      "0\n"
     ]
    }
   ],
   "source": [
    "X = np.array([0, 15, -9, 7, 12, 3, -21])\n",
    "print(vectorized_regularization(X, 0.3))\n",
    "# 284.7\n",
    "print(vectorized_regularization(X, 0.01))\n",
    "# 9.49\n",
    "print(vectorized_regularization(X, 0))"
   ]
  },
  {
   "cell_type": "markdown",
   "metadata": {},
   "source": [
    "# Exercise 02 - Regularized Mean Squared Error"
   ]
  },
  {
   "cell_type": "code",
   "execution_count": 80,
   "metadata": {},
   "outputs": [],
   "source": [
    "def reg_mse(x, y, theta, lambda_):\n",
    "    return ((np.dot((np.dot(x, theta) - y).T, (np.dot(x, theta) - y)) + np.dot(lambda_ * theta, theta)) / y.shape[0])"
   ]
  },
  {
   "cell_type": "code",
   "execution_count": 81,
   "metadata": {},
   "outputs": [
    {
     "name": "stdout",
     "output_type": "stream",
     "text": [
      "2641.0\n",
      "2641.6464285714287\n",
      "2644.2321428571427\n"
     ]
    }
   ],
   "source": [
    "X = np.array([\n",
    " [ -6, -7, -9],\n",
    " [ 13, -2, 14],\n",
    " [ -7, 14, -1],\n",
    " [ -8, -4, 6],\n",
    " [ -5, -9, 6],\n",
    " [ 1, -5, 11],\n",
    " [ 9, -11, 8]])\n",
    "Y = np.array([2, 14, -13, 5, 12, 4, -19])\n",
    "Z = np.array([3,0.5,-6])\n",
    "print(reg_mse(X, Y, Z, 0))\n",
    "print(reg_mse(X, Y, Z, 0.1))\n",
    "print(reg_mse(X, Y, Z, 0.5))"
   ]
  },
  {
   "cell_type": "markdown",
   "metadata": {},
   "source": [
    "# Exercise 03 - Regularized Linear Gradient - iterative version"
   ]
  },
  {
   "cell_type": "code",
   "execution_count": 115,
   "metadata": {},
   "outputs": [],
   "source": [
    "def reg_linear_grad(x, y, theta, lambda_):\n",
    "    tmp = 0.0\n",
    "    m = x.shape[0]\n",
    "    n = x.shape[1]\n",
    "    for j in range(x.shape[1]):\n",
    "        for i in range(x.shape[0]):\n",
    "            tmp += ((np.dot(theta, x[i]) - y[i]) * x[i])\n",
    "    print(tmp / m)"
   ]
  },
  {
   "cell_type": "code",
   "execution_count": 116,
   "metadata": {},
   "outputs": [
    {
     "name": "stdout",
     "output_type": "stream",
     "text": [
      "[-193.07142857  886.         -678.71428571]\n"
     ]
    }
   ],
   "source": [
    "X = np.array([\n",
    " [ -6, -7, -9],\n",
    " [ 13, -2, 14],\n",
    " [ -7, 14, -1],\n",
    " [ -8, -4, 6],\n",
    " [ -5, -9, 6],\n",
    " [ 1, -5, 11],\n",
    " [ 9, -11, 8]])\n",
    "Y = np.array([2, 14, -13, 5, 12, 4, -19])\n",
    "Z = np.array([3,10.5,-6])\n",
    "reg_linear_grad(X, Y, Z, 1)"
   ]
  },
  {
   "cell_type": "code",
   "execution_count": null,
   "metadata": {},
   "outputs": [],
   "source": []
  }
 ],
 "metadata": {
  "kernelspec": {
   "display_name": "Python 3",
   "language": "python",
   "name": "python3"
  },
  "language_info": {
   "codemirror_mode": {
    "name": "ipython",
    "version": 3
   },
   "file_extension": ".py",
   "mimetype": "text/x-python",
   "name": "python",
   "nbconvert_exporter": "python",
   "pygments_lexer": "ipython3",
   "version": "3.7.4"
  }
 },
 "nbformat": 4,
 "nbformat_minor": 2
}
