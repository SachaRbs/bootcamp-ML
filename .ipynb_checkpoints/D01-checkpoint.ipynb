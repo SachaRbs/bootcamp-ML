{
 "cells": [
  {
   "cell_type": "markdown",
   "metadata": {},
   "source": [
    "# Exercise 00 - Hypothesis Concept in Machine Learning"
   ]
  },
  {
   "cell_type": "code",
   "execution_count": 4,
   "metadata": {},
   "outputs": [],
   "source": [
    "import numpy as np"
   ]
  },
  {
   "cell_type": "code",
   "execution_count": 5,
   "metadata": {},
   "outputs": [],
   "source": [
    "def dot(x, y):\n",
    "    dot = 0.0\n",
    "#     print(x.ndim)\n",
    "#     print(y.ndim)\n",
    "#     if not isinstance(x, np.ndarray) or x.size == 0 or x.ndim != 1:\n",
    "#         return None\n",
    "#     if not isinstance(y, np.ndarray) or y.size == 0 or y.ndim != 1:\n",
    "#         return None\n",
    "#     if x.ndim != y.ndim:\n",
    "#         return None\n",
    "    \n",
    "    for elem in range(x.size):\n",
    "        dot += x[elem] * y[elem]\n",
    "    return dot"
   ]
  },
  {
   "cell_type": "code",
   "execution_count": 6,
   "metadata": {},
   "outputs": [],
   "source": [
    "def predict_(theta, X):\n",
    "    if not isinstance(X, np.ndarray) or X.size == 0 or X.ndim != 2:\n",
    "        return None\n",
    "    if not isinstance(theta, np.ndarray) or theta.size == 0 or theta.ndim > 2:\n",
    "        return None\n",
    "    if X.shape[1] + 1 != theta.size:\n",
    "        print(\"Incompatible dimension match between X and theta\")\n",
    "        return None\n",
    "    pred = np.empty(0)\n",
    "    X_conc = np.concatenate((np.ones((X.shape[0],1)), X), axis=1)\n",
    "    for j in range(X.shape[0]):\n",
    "        pred = np.append(pred, dot(theta[:,0], X_conc[j]))\n",
    "    return (pred.reshape(-1, 1))"
   ]
  },
  {
   "cell_type": "code",
   "execution_count": 7,
   "metadata": {},
   "outputs": [
    {
     "name": "stdout",
     "output_type": "stream",
     "text": [
      "[[ 2.]\n",
      " [ 6.]\n",
      " [10.]\n",
      " [14.]\n",
      " [18.]]\n",
      "Incompatible dimension match between X and theta\n",
      "None\n",
      "[[22.25]\n",
      " [44.45]\n",
      " [66.65]\n",
      " [88.85]]\n"
     ]
    }
   ],
   "source": [
    "import numpy as np\n",
    "X1 = np.array([[0.], [1.], [2.], [3.], [4.]])\n",
    "theta1 = np.array([[2.], [4.]])\n",
    "print(predict_(theta1, X1))\n",
    "# array([[2], [6], [10], [14.], [18.]])\n",
    "\n",
    "X2 = np.array([[1], [2], [3], [5], [8]])\n",
    "theta2 = np.array([[2.]])\n",
    "print(predict_(theta2, X2))\n",
    "\n",
    "X3 = np.array([[0.2, 2., 20.], [0.4, 4., 40.], [0.6, 6., 60.], [0.8, 8.,\n",
    "80.]])\n",
    "theta3 = np.array([[0.05], [1.], [1.], [1.]])\n",
    "print(predict_(theta3, X3))\n",
    "# array([[22.25], [44.45], [66.65], [88.85]])"
   ]
  },
  {
   "cell_type": "markdown",
   "metadata": {},
   "source": [
    "# Exercise 01 - Cost function Concept"
   ]
  },
  {
   "cell_type": "code",
   "execution_count": 8,
   "metadata": {},
   "outputs": [],
   "source": [
    "def cost_elem_(theta, X, Y):\n",
    "    J_elem = (1 / (2 * X.shape[0])) * (predict_(theta, X) - Y)**2\n",
    "    return J_elem.reshape(-1, 1)\n",
    "\n",
    "def cost_(theta, X, Y):\n",
    "    J_value = 0.0\n",
    "    J_elem = cost_elem_(theta, X, Y)\n",
    "    for i in range(X.shape[0]):\n",
    "        J_value += float(J_elem[i])\n",
    "    return J_value"
   ]
  },
  {
   "cell_type": "code",
   "execution_count": 9,
   "metadata": {},
   "outputs": [
    {
     "name": "stdout",
     "output_type": "stream",
     "text": [
      "[[0. ]\n",
      " [0.1]\n",
      " [0.4]\n",
      " [0.9]\n",
      " [1.6]]\n",
      "\n",
      "3.0\n",
      "[[1.3203125]\n",
      " [0.7503125]\n",
      " [0.0153125]\n",
      " [2.1528125]]\n",
      "\n",
      "4.238750000000007\n"
     ]
    }
   ],
   "source": [
    "import numpy as np\n",
    "X1 = np.array([[0.], [1.], [2.], [3.], [4.]])\n",
    "theta1 = np.array([[2.], [4.]])\n",
    "Y1 = np.array([[2.], [7.], [12.], [17.], [22.]])\n",
    "\n",
    "print(cost_elem_(theta1, X1, Y1))\n",
    "print()\n",
    "print(cost_(theta1, X1, Y1))\n",
    "\n",
    "X2 = np.array([[0.2, 2., 20.], [0.4, 4., 40.], [0.6, 6., 60.], [0.8, 8.,\n",
    "80.]])\n",
    "theta2 = np.array([[0.05], [1.], [1.], [1.]])\n",
    "Y2 = np.array([[19.], [42.], [67.], [93.]])\n",
    "\n",
    "print(cost_elem_(theta2, X2, Y2))\n",
    "print()\n",
    "print(cost_(theta2, X2, Y2))"
   ]
  },
  {
   "cell_type": "markdown",
   "metadata": {},
   "source": [
    "# Exercise 02 - Descent Gradient"
   ]
  },
  {
   "cell_type": "code",
   "execution_count": 10,
   "metadata": {},
   "outputs": [],
   "source": [
    "def mat_mat_prod(x, y):\n",
    "#     if not isinstance(x, np.ndarray) or x.size == 0 or x.ndim != 2:\n",
    "#         return None\n",
    "#     if not isinstance(y, np.ndarray) or y.size == 0 or x.ndim != 2:\n",
    "#         return None\n",
    "#     if x.shape[1] != y.shape[0]:\n",
    "#         return None\n",
    "    for j in range(y.shape[1]):\n",
    "        if j == 0:\n",
    "            prod = mat_vec_prod(x, y[:,j])\n",
    "        else:\n",
    "            prod = np.append(prod, mat_vec_prod(x, y[:,j]), axis=1)\n",
    "    return prod\n",
    "\n",
    "def mat_vec_prod(x, y):\n",
    "    prod = np.empty(0)\n",
    "#     if not isinstance(x, np.ndarray) or x.size == 0 or x.ndim != 2:\n",
    "#         return None\n",
    "#     if not isinstance(y, np.ndarray) or y.size == 0:\n",
    "#         return None\n",
    "#     if x.shape[1] != y.shape[0]:\n",
    "#         return None\n",
    "    for elem in x:\n",
    "        prod = np.append(prod, dot(elem, y.ravel()))\n",
    "    return prod.reshape(-1, 1)"
   ]
  },
  {
   "cell_type": "code",
   "execution_count": 11,
   "metadata": {},
   "outputs": [],
   "source": [
    "def gradient(x, y, theta):\n",
    "    \"\"\"Computes a gradient vector from three non-empty numpy.ndarray, using\n",
    "    a for-loop. The two arrays must have the compatible dimensions.\n",
    "    Args:\n",
    "     x: has to be an numpy.ndarray, a matrice of dimension m * n.\n",
    "     y: has to be an numpy.ndarray, a vector of dimension m * 1.\n",
    "     theta: has to be an numpy.ndarray, a vector n * 1.\n",
    "    Returns:\n",
    "     The gradient as a numpy.ndarray, a vector of dimensions n * 1.\n",
    "     None if x, y, or theta are empty numpy.ndarray.\n",
    "     None if x, y and theta do not have compatible dimensions.\n",
    "    Raises:\n",
    "     This function should not raise any Exception.\n",
    "    \"\"\"\n",
    "    x = np.concatenate((np.ones((x.shape[0],1)), x), axis=1)\n",
    "    nabla = np.empty(0)\n",
    "    if not isinstance(x, np.ndarray) or x.size == 0 or x.ndim != 2:\n",
    "        print('Error Gradient : x dim')\n",
    "        return None\n",
    "    if not isinstance(y, np.ndarray) or y.size == 0 or y.ndim > 2:\n",
    "        print('Error Gradient : y dim')\n",
    "        return None\n",
    "    if not isinstance(theta, np.ndarray) or theta.size == 0 or theta.ndim > 2:\n",
    "        print('Error Gradient : theta dim')\n",
    "        return None\n",
    "    if x.shape[0] != y.size:\n",
    "        print('Error Gradient : x.shape[0] != y.size')\n",
    "        return None\n",
    "    if x.shape[1] != theta.size:\n",
    "        print('Error Gradient : x.shape[1] != theta.size')\n",
    "        return None\n",
    "    for j in range(theta.size):\n",
    "        my_sum = 0.0\n",
    "        for elem in range(y.size):\n",
    "            my_sum += (dot(theta, x[elem,:].reshape(-1 ,1)) - y[elem]) * x[elem,j]\n",
    "        nabla = np.append(nabla, my_sum / y.size)\n",
    "    return nabla.reshape(-1, 1)"
   ]
  },
  {
   "cell_type": "code",
   "execution_count": 12,
   "metadata": {},
   "outputs": [],
   "source": [
    "def fit_(theta, X, Y, alpha=0.01, n_cycle=2000):\n",
    "    for i in range(n_cycle):\n",
    "        theta = theta - (alpha * gradient(X, Y, theta))\n",
    "    return theta"
   ]
  },
  {
   "cell_type": "code",
   "execution_count": 13,
   "metadata": {},
   "outputs": [
    {
     "name": "stdout",
     "output_type": "stream",
     "text": [
      "[[2.00011814]\n",
      " [3.99995856]]\n"
     ]
    }
   ],
   "source": [
    "X1 = np.array([[0.], [1.], [2.], [3.], [4.]])\n",
    "Y1 = np.array([[2.], [6.], [10.], [14.], [18.]])\n",
    "theta1 = np.array([[1.], [1.]])\n",
    "theta1 = fit_(theta1, X1, Y1, alpha = 0.01, n_cycle=2000)\n",
    "print(theta1)\n"
   ]
  },
  {
   "cell_type": "markdown",
   "metadata": {},
   "source": [
    "# Exercise 03 - The Linear Regression with Class"
   ]
  },
  {
   "cell_type": "code",
   "execution_count": 22,
   "metadata": {},
   "outputs": [],
   "source": [
    "class MyLinearRegression():\n",
    "    def __init__(self, theta):\n",
    "        if (not isinstance(theta, np.ndarray) and not isinstance(theta, list))\\\n",
    "            or (isinstance(theta, np.ndarray) and (theta.size == 0 or theta.ndim > 2))\\\n",
    "            or (isinstance(theta, list) and len(theta) == 0):\n",
    "                print('Error init : theta dim')\n",
    "                return None\n",
    "        self.theta = np.array(theta)\n",
    "    def predict_(self, X):\n",
    "        if not isinstance(X, np.ndarray) or X.size == 0 or X.ndim != 2:\n",
    "            return None\n",
    "        if not isinstance(self.theta, np.ndarray) or self.theta.size == 0 or self.theta.ndim > 2:\n",
    "            return None\n",
    "        if X.shape[1] + 1 != self.theta.size:\n",
    "            print(\"Incompatible dimension match between X and theta\")\n",
    "            return None\n",
    "        pred = np.empty(0)\n",
    "        X_conc = np.concatenate((np.ones((X.shape[0],1)), X), axis=1)\n",
    "        for j in range(X.shape[0]):\n",
    "            pred = np.append(pred, dot(self.theta[:,0], X_conc[j]))\n",
    "        return (pred.reshape(-1, 1))\n",
    "\n",
    "    def cost_elem_(self, X, Y):\n",
    "        J_elem = (1 / (2 * X.shape[0])) * (predict_(self.theta, X) - Y)**2\n",
    "        return J_elem.reshape(-1, 1)\n",
    "\n",
    "    def cost_(self, X, Y):\n",
    "        J_value = 0.0\n",
    "        J_elem = cost_elem_(self.theta, X, Y)\n",
    "        for i in range(X.shape[0]):\n",
    "            J_value += float(J_elem[i])\n",
    "        return J_value\n",
    "    def fit_(self, X, Y, alpha=0.01, n_cycle=2000):\n",
    "        for i in range(n_cycle):\n",
    "            self.theta = self.theta - (alpha * gradient(X, Y, self.theta))\n",
    "        return self.theta"
   ]
  },
  {
   "cell_type": "code",
   "execution_count": 24,
   "metadata": {},
   "outputs": [
    {
     "name": "stdout",
     "output_type": "stream",
     "text": [
      "[[  8.]\n",
      " [ 48.]\n",
      " [323.]]\n",
      "[[  37.5]\n",
      " [   0. ]\n",
      " [1837.5]]\n",
      "1875.0\n",
      "[[ 1.81883792e+01]\n",
      " [ 2.76697788e+00]\n",
      " [-3.74782024e-01]\n",
      " [ 1.39219585e+00]\n",
      " [ 1.74138279e-02]]\n",
      "[[ 23.41720822]\n",
      " [ 47.48924883]\n",
      " [218.06563769]]\n",
      "[[0.02901045]\n",
      " [0.04347779]\n",
      " [0.00071805]]\n",
      "0.07320629376957033\n"
     ]
    }
   ],
   "source": [
    "X = np.array([[1., 1., 2., 3.], [5., 8., 13., 21.], [34., 55., 89., 144.]])\n",
    "Y = np.array([[23.], [48.], [218.]])\n",
    "mylr = MyLinearRegression([[1.], [1.], [1.], [1.], [1]])\n",
    "print(mylr.predict_(X))\n",
    "\n",
    "print(mylr.cost_elem_(X,Y))\n",
    "\n",
    "print(mylr.cost_(X,Y))\n",
    "\n",
    "mylr.fit_(X, Y, alpha = 1.6e-4, n_cycle=200000)\n",
    "print(mylr.theta)\n",
    "\n",
    "print(mylr.predict_(X))\n",
    "\n",
    "print(mylr.cost_elem_(X,Y))\n",
    "\n",
    "print(mylr.cost_(X,Y))"
   ]
  },
  {
   "cell_type": "markdown",
   "metadata": {},
   "source": [
    "# Exercise 04 - Linear Regression"
   ]
  },
  {
   "cell_type": "code",
   "execution_count": null,
   "metadata": {},
   "outputs": [],
   "source": []
  }
 ],
 "metadata": {
  "kernelspec": {
   "display_name": "Python 3",
   "language": "python",
   "name": "python3"
  },
  "language_info": {
   "codemirror_mode": {
    "name": "ipython",
    "version": 3
   },
   "file_extension": ".py",
   "mimetype": "text/x-python",
   "name": "python",
   "nbconvert_exporter": "python",
   "pygments_lexer": "ipython3",
   "version": "3.7.4"
  }
 },
 "nbformat": 4,
 "nbformat_minor": 2
}
